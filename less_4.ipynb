{
  "nbformat": 4,
  "nbformat_minor": 0,
  "metadata": {
    "kernelspec": {
      "display_name": "Python 3",
      "language": "python",
      "name": "python3"
    },
    "language_info": {
      "codemirror_mode": {
        "name": "ipython",
        "version": 3
      },
      "file_extension": ".py",
      "mimetype": "text/x-python",
      "name": "python",
      "nbconvert_exporter": "python",
      "pygments_lexer": "ipython3",
      "version": "3.8.3"
    },
    "colab": {
      "name": "less_4.ipynb",
      "provenance": [],
      "collapsed_sections": []
    }
  },
  "cells": [
    {
      "cell_type": "markdown",
      "metadata": {
        "id": "RlCcX4RR-KBk"
      },
      "source": [
        "# Рекомендательные системы на основе контента"
      ]
    },
    {
      "cell_type": "code",
      "metadata": {
        "colab": {
          "base_uri": "https://localhost:8080/"
        },
        "id": "OWQ367vw-hGv",
        "outputId": "3d1a4358-27c5-4457-c510-9b7824c26f3f"
      },
      "source": [
        "!pip install implicit"
      ],
      "execution_count": 1,
      "outputs": [
        {
          "output_type": "stream",
          "text": [
            "Collecting implicit\n",
            "\u001b[?25l  Downloading https://files.pythonhosted.org/packages/bc/07/c0121884722d16e2c5beeb815f6b84b41cbf22e738e4075f1475be2791bc/implicit-0.4.4.tar.gz (1.1MB)\n",
            "\u001b[K     |████████████████████████████████| 1.1MB 5.6MB/s \n",
            "\u001b[?25hRequirement already satisfied: numpy in /usr/local/lib/python3.6/dist-packages (from implicit) (1.19.4)\n",
            "Requirement already satisfied: scipy>=0.16 in /usr/local/lib/python3.6/dist-packages (from implicit) (1.4.1)\n",
            "Requirement already satisfied: tqdm>=4.27 in /usr/local/lib/python3.6/dist-packages (from implicit) (4.41.1)\n",
            "Building wheels for collected packages: implicit\n",
            "  Building wheel for implicit (setup.py) ... \u001b[?25l\u001b[?25hdone\n",
            "  Created wheel for implicit: filename=implicit-0.4.4-cp36-cp36m-linux_x86_64.whl size=3419409 sha256=dc8aafb398186fb980351c629ee3ae52233a5ab98ee6c51e23387f2ab0d90210\n",
            "  Stored in directory: /root/.cache/pip/wheels/bf/d4/ec/fd4f622fcbefb7521f149905295b2c26adecb23af38aa28217\n",
            "Successfully built implicit\n",
            "Installing collected packages: implicit\n",
            "Successfully installed implicit-0.4.4\n"
          ],
          "name": "stdout"
        }
      ]
    },
    {
      "cell_type": "code",
      "metadata": {
        "colab": {
          "base_uri": "https://localhost:8080/"
        },
        "id": "B2BUcMLt-KBu",
        "outputId": "0acdf893-f2dd-421f-f683-78d803263313"
      },
      "source": [
        "import pandas as pd\n",
        "import numpy as np\n",
        "import matplotlib.pyplot as plt\n",
        "%matplotlib inline\n",
        "\n",
        "# Для работы с матрицами\n",
        "from scipy.sparse import csr_matrix\n",
        "\n",
        "# Матричная факторизация\n",
        "from implicit.als import AlternatingLeastSquares\n",
        "from implicit.nearest_neighbours import ItemItemRecommender  # нужен для одного трюка\n",
        "from implicit.nearest_neighbours import bm25_weight, tfidf_weight\n",
        "\n",
        "# Функции из 1-ого вебинара\n",
        "import os, sys\n",
        "\n",
        "module_path = os.path.abspath(os.path.join(os.pardir))\n",
        "if module_path not in sys.path:\n",
        "    sys.path.append(module_path)\n",
        "\n",
        "print(module_path)\n",
        "from src.utils import prefilter_items\n",
        "from src.metrics1 import recall_at_k\n",
        "from src.metrics1 import precision_at_k\n",
        "\n",
        "\n",
        "from google.colab import files"
      ],
      "execution_count": 2,
      "outputs": [
        {
          "output_type": "stream",
          "text": [
            "/\n"
          ],
          "name": "stdout"
        }
      ]
    },
    {
      "cell_type": "code",
      "metadata": {
        "colab": {
          "resources": {
            "http://localhost:8080/nbextensions/google.colab/files.js": {
              "data": "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",
              "ok": true,
              "headers": [
                [
                  "content-type",
                  "application/javascript"
                ]
              ],
              "status": 200,
              "status_text": ""
            }
          },
          "base_uri": "https://localhost:8080/",
          "height": 72
        },
        "id": "ZBEbM_FeAVJy",
        "outputId": "e7984f1c-980f-4cc2-b821-55e83ae36382"
      },
      "source": [
        "file = files.upload()"
      ],
      "execution_count": 4,
      "outputs": [
        {
          "output_type": "display_data",
          "data": {
            "text/html": [
              "\n",
              "     <input type=\"file\" id=\"files-ee6aae6d-23f0-4b2e-b048-dff3bdc0dab5\" name=\"files[]\" multiple disabled\n",
              "        style=\"border:none\" />\n",
              "     <output id=\"result-ee6aae6d-23f0-4b2e-b048-dff3bdc0dab5\">\n",
              "      Upload widget is only available when the cell has been executed in the\n",
              "      current browser session. Please rerun this cell to enable.\n",
              "      </output>\n",
              "      <script src=\"/nbextensions/google.colab/files.js\"></script> "
            ],
            "text/plain": [
              "<IPython.core.display.HTML object>"
            ]
          },
          "metadata": {
            "tags": []
          }
        },
        {
          "output_type": "stream",
          "text": [
            "Saving transaction_data.csv to transaction_data.csv\n"
          ],
          "name": "stdout"
        }
      ]
    },
    {
      "cell_type": "code",
      "metadata": {
        "colab": {
          "base_uri": "https://localhost:8080/",
          "height": 111
        },
        "id": "mqG9XIB-hODk",
        "outputId": "bf804c23-608a-458d-d175-62339dcd7021"
      },
      "source": [
        "data = pd.read_csv('transaction_data.csv')\r\n",
        "\r\n",
        "data.columns = [col.lower() for col in data.columns]\r\n",
        "data.rename(columns={'household_key': 'user_id',\r\n",
        "                    'product_id': 'item_id'},\r\n",
        "           inplace=True)\r\n",
        "\r\n",
        "\r\n",
        "test_size_weeks = 3\r\n",
        "\r\n",
        "data_train = data[data['week_no'] < data['week_no'].max() - test_size_weeks]\r\n",
        "data_test = data[data['week_no'] >= data['week_no'].max() - test_size_weeks]\r\n",
        "\r\n",
        "data_train.head(2)"
      ],
      "execution_count": 5,
      "outputs": [
        {
          "output_type": "execute_result",
          "data": {
            "text/html": [
              "<div>\n",
              "<style scoped>\n",
              "    .dataframe tbody tr th:only-of-type {\n",
              "        vertical-align: middle;\n",
              "    }\n",
              "\n",
              "    .dataframe tbody tr th {\n",
              "        vertical-align: top;\n",
              "    }\n",
              "\n",
              "    .dataframe thead th {\n",
              "        text-align: right;\n",
              "    }\n",
              "</style>\n",
              "<table border=\"1\" class=\"dataframe\">\n",
              "  <thead>\n",
              "    <tr style=\"text-align: right;\">\n",
              "      <th></th>\n",
              "      <th>user_id</th>\n",
              "      <th>basket_id</th>\n",
              "      <th>day</th>\n",
              "      <th>item_id</th>\n",
              "      <th>quantity</th>\n",
              "      <th>sales_value</th>\n",
              "      <th>store_id</th>\n",
              "      <th>retail_disc</th>\n",
              "      <th>trans_time</th>\n",
              "      <th>week_no</th>\n",
              "      <th>coupon_disc</th>\n",
              "      <th>coupon_match_disc</th>\n",
              "    </tr>\n",
              "  </thead>\n",
              "  <tbody>\n",
              "    <tr>\n",
              "      <th>0</th>\n",
              "      <td>2375</td>\n",
              "      <td>26984851472</td>\n",
              "      <td>1</td>\n",
              "      <td>1004906</td>\n",
              "      <td>1</td>\n",
              "      <td>1.39</td>\n",
              "      <td>364</td>\n",
              "      <td>-0.6</td>\n",
              "      <td>1631</td>\n",
              "      <td>1</td>\n",
              "      <td>0.0</td>\n",
              "      <td>0.0</td>\n",
              "    </tr>\n",
              "    <tr>\n",
              "      <th>1</th>\n",
              "      <td>2375</td>\n",
              "      <td>26984851472</td>\n",
              "      <td>1</td>\n",
              "      <td>1033142</td>\n",
              "      <td>1</td>\n",
              "      <td>0.82</td>\n",
              "      <td>364</td>\n",
              "      <td>0.0</td>\n",
              "      <td>1631</td>\n",
              "      <td>1</td>\n",
              "      <td>0.0</td>\n",
              "      <td>0.0</td>\n",
              "    </tr>\n",
              "  </tbody>\n",
              "</table>\n",
              "</div>"
            ],
            "text/plain": [
              "   user_id    basket_id  day  ...  week_no  coupon_disc  coupon_match_disc\n",
              "0     2375  26984851472    1  ...        1          0.0                0.0\n",
              "1     2375  26984851472    1  ...        1          0.0                0.0\n",
              "\n",
              "[2 rows x 12 columns]"
            ]
          },
          "metadata": {
            "tags": []
          },
          "execution_count": 5
        }
      ]
    },
    {
      "cell_type": "code",
      "metadata": {
        "colab": {
          "base_uri": "https://localhost:8080/",
          "height": 111
        },
        "id": "_EqX6riuhXqd",
        "outputId": "4eb79972-45f6-4a33-995f-993a15887f65"
      },
      "source": [
        "item_features = pd.read_csv('product.csv')\r\n",
        "item_features.columns = [col.lower() for col in item_features.columns]\r\n",
        "item_features.rename(columns={'product_id': 'item_id'}, inplace=True)\r\n",
        "\r\n",
        "item_features.head(2)"
      ],
      "execution_count": 6,
      "outputs": [
        {
          "output_type": "execute_result",
          "data": {
            "text/html": [
              "<div>\n",
              "<style scoped>\n",
              "    .dataframe tbody tr th:only-of-type {\n",
              "        vertical-align: middle;\n",
              "    }\n",
              "\n",
              "    .dataframe tbody tr th {\n",
              "        vertical-align: top;\n",
              "    }\n",
              "\n",
              "    .dataframe thead th {\n",
              "        text-align: right;\n",
              "    }\n",
              "</style>\n",
              "<table border=\"1\" class=\"dataframe\">\n",
              "  <thead>\n",
              "    <tr style=\"text-align: right;\">\n",
              "      <th></th>\n",
              "      <th>item_id</th>\n",
              "      <th>manufacturer</th>\n",
              "      <th>department</th>\n",
              "      <th>brand</th>\n",
              "      <th>commodity_desc</th>\n",
              "      <th>sub_commodity_desc</th>\n",
              "      <th>curr_size_of_product</th>\n",
              "    </tr>\n",
              "  </thead>\n",
              "  <tbody>\n",
              "    <tr>\n",
              "      <th>0</th>\n",
              "      <td>25671</td>\n",
              "      <td>2</td>\n",
              "      <td>GROCERY</td>\n",
              "      <td>National</td>\n",
              "      <td>FRZN ICE</td>\n",
              "      <td>ICE - CRUSHED/CUBED</td>\n",
              "      <td>22 LB</td>\n",
              "    </tr>\n",
              "    <tr>\n",
              "      <th>1</th>\n",
              "      <td>26081</td>\n",
              "      <td>2</td>\n",
              "      <td>MISC. TRANS.</td>\n",
              "      <td>National</td>\n",
              "      <td>NO COMMODITY DESCRIPTION</td>\n",
              "      <td>NO SUBCOMMODITY DESCRIPTION</td>\n",
              "      <td></td>\n",
              "    </tr>\n",
              "  </tbody>\n",
              "</table>\n",
              "</div>"
            ],
            "text/plain": [
              "   item_id  manufacturer  ...           sub_commodity_desc curr_size_of_product\n",
              "0    25671             2  ...          ICE - CRUSHED/CUBED                22 LB\n",
              "1    26081             2  ...  NO SUBCOMMODITY DESCRIPTION                     \n",
              "\n",
              "[2 rows x 7 columns]"
            ]
          },
          "metadata": {
            "tags": []
          },
          "execution_count": 6
        }
      ]
    },
    {
      "cell_type": "code",
      "metadata": {
        "colab": {
          "base_uri": "https://localhost:8080/",
          "height": 111
        },
        "id": "uewQylTQheXT",
        "outputId": "68293bd8-225b-48cb-9c91-0a16b43e4dbc"
      },
      "source": [
        "result = data_test.groupby('user_id')['item_id'].unique().reset_index()\r\n",
        "result.columns=['user_id', 'actual']\r\n",
        "result.head(2)"
      ],
      "execution_count": 7,
      "outputs": [
        {
          "output_type": "execute_result",
          "data": {
            "text/html": [
              "<div>\n",
              "<style scoped>\n",
              "    .dataframe tbody tr th:only-of-type {\n",
              "        vertical-align: middle;\n",
              "    }\n",
              "\n",
              "    .dataframe tbody tr th {\n",
              "        vertical-align: top;\n",
              "    }\n",
              "\n",
              "    .dataframe thead th {\n",
              "        text-align: right;\n",
              "    }\n",
              "</style>\n",
              "<table border=\"1\" class=\"dataframe\">\n",
              "  <thead>\n",
              "    <tr style=\"text-align: right;\">\n",
              "      <th></th>\n",
              "      <th>user_id</th>\n",
              "      <th>actual</th>\n",
              "    </tr>\n",
              "  </thead>\n",
              "  <tbody>\n",
              "    <tr>\n",
              "      <th>0</th>\n",
              "      <td>1</td>\n",
              "      <td>[879517, 934369, 1115576, 1124029, 5572301, 65...</td>\n",
              "    </tr>\n",
              "    <tr>\n",
              "      <th>1</th>\n",
              "      <td>3</td>\n",
              "      <td>[823704, 834117, 840244, 913785, 917816, 93870...</td>\n",
              "    </tr>\n",
              "  </tbody>\n",
              "</table>\n",
              "</div>"
            ],
            "text/plain": [
              "   user_id                                             actual\n",
              "0        1  [879517, 934369, 1115576, 1124029, 5572301, 65...\n",
              "1        3  [823704, 834117, 840244, 913785, 917816, 93870..."
            ]
          },
          "metadata": {
            "tags": []
          },
          "execution_count": 7
        }
      ]
    },
    {
      "cell_type": "code",
      "metadata": {
        "id": "0KzleE0Zhh17"
      },
      "source": [
        "def prefilter_items(data, take_n_popular=0):\r\n",
        "    # Уберем самые популярные товары (их и так купят)\r\n",
        "    popularity = data.groupby('item_id')['user_id'].nunique().reset_index() / data['user_id'].nunique()\r\n",
        "    popularity.rename(columns={'user_id': 'share_unique_users'}, inplace=True)\r\n",
        "    top_popular = popularity[popularity['share_unique_users'] > 0.5].item_id.tolist()\r\n",
        "    data = data[~data['item_id'].isin(top_popular)]\r\n",
        "    \r\n",
        "    # Уберем самые НЕ популярные товары (их и так НЕ купят)\r\n",
        "    top_notpopular = popularity[popularity['share_unique_users'] < 0.01].item_id.tolist()\r\n",
        "    data = data[~data['item_id'].isin(top_notpopular)]\r\n",
        "    \r\n",
        "    # Топ n-популярных\r\n",
        "    if take_n_popular > 0:\r\n",
        "        popularity = data.groupby('item_id')['quantity'].count().reset_index()\r\n",
        "        top = popularity.sort_values('quantity', ascending=False)[:take_n_popular].item_id.tolist()\r\n",
        "        return data.loc[data['item_id'].isin(top)]\r\n",
        "    else:\r\n",
        "        return data"
      ],
      "execution_count": 8,
      "outputs": []
    },
    {
      "cell_type": "code",
      "metadata": {
        "id": "YuKMtuHtLmk4"
      },
      "source": [
        "class MainRecommender:\r\n",
        "    \"\"\"Рекоммендации, которые можно получить из ALS\r\n",
        "\r\n",
        "    Input\r\n",
        "    -----\r\n",
        "    user_item_matrix: pd.DataFrame\r\n",
        "        Матрица взаимодействий user-item\r\n",
        "    \"\"\"\r\n",
        "\r\n",
        "    def __init__(self, data, weighting=True):\r\n",
        "        # your_code. Это не обязательная часть. Но если вам удобно что-либо посчитать тут - можно это сделать\r\n",
        "\r\n",
        "        self.user_item_matrix = self.prepare_matrix(data)  # pd.DataFrame\r\n",
        "        self.id_to_itemid, self.id_to_userid, self.itemid_to_id, self.userid_to_id = self.prepare_dicts(\r\n",
        "            self.user_item_matrix)\r\n",
        "\r\n",
        "        if weighting:\r\n",
        "            self.user_item_matrix = bm25_weight(self.user_item_matrix.T).T\r\n",
        "\r\n",
        "        self.model_als = self.fit_als(self.user_item_matrix)\r\n",
        "        self.own_recommender = self.fit_own_recommender(self.user_item_matrix)\r\n",
        "        self.similar_users_recommender = self.fit_similar_users_recommender(self.user_item_matrix)\r\n",
        "\r\n",
        "    @staticmethod\r\n",
        "    def prepare_matrix(data):\r\n",
        "        user_item_matrix = pd.pivot_table(data,\r\n",
        "                                          index='user_id', columns='item_id',\r\n",
        "                                          values='quantity',  # Можно пробоват ьдругие варианты\r\n",
        "                                          aggfunc='count',\r\n",
        "                                          fill_value=0\r\n",
        "                                          )\r\n",
        "        user_item_matrix = user_item_matrix.astype(float)  # необходимый тип матрицы для implicit\r\n",
        "\r\n",
        "        return user_item_matrix\r\n",
        "\r\n",
        "    @staticmethod\r\n",
        "    def prepare_dicts(user_item_matrix):\r\n",
        "        \"\"\"Подготавливает вспомогательные словари\"\"\"\r\n",
        "\r\n",
        "        userids = user_item_matrix.index.values\r\n",
        "        itemids = user_item_matrix.columns.values\r\n",
        "\r\n",
        "        matrix_userids = np.arange(len(userids))\r\n",
        "        matrix_itemids = np.arange(len(itemids))\r\n",
        "\r\n",
        "        id_to_itemid = dict(zip(matrix_itemids, itemids))\r\n",
        "        id_to_userid = dict(zip(matrix_userids, userids))\r\n",
        "\r\n",
        "        itemid_to_id = dict(zip(itemids, matrix_itemids))\r\n",
        "        userid_to_id = dict(zip(userids, matrix_userids))\r\n",
        "\r\n",
        "        return id_to_itemid, id_to_userid, itemid_to_id, userid_to_id\r\n",
        "\r\n",
        "    @staticmethod\r\n",
        "    def fit_own_recommender(user_item_matrix):\r\n",
        "        \"\"\"Обучает модель, которая рекомендует товары, среди товаров, купленных юзером\"\"\"\r\n",
        "        own_recommender = ItemItemRecommender(K=1, num_threads=4)\r\n",
        "        own_recommender.fit(csr_matrix(user_item_matrix).T.tocsr())\r\n",
        "\r\n",
        "        return own_recommender\r\n",
        "\r\n",
        "    @staticmethod\r\n",
        "    def fit_als(user_item_matrix):\r\n",
        "        \"\"\"Обучает ALS\"\"\"\r\n",
        "\r\n",
        "        model = AlternatingLeastSquares(factors=20,\r\n",
        "                                        regularization=0.001,\r\n",
        "                                        iterations=15,\r\n",
        "                                        num_threads=4)\r\n",
        "        model.fit(csr_matrix(user_item_matrix).T.tocsr())\r\n",
        "\r\n",
        "        return model\r\n",
        "\r\n",
        "    @staticmethod\r\n",
        "    def fit_similar_users_recommender(user_item_matrix):\r\n",
        "        \"\"\"Обучает модель, которая рекомендует товары, среди товаров, купленных 5 похожими юзерами\"\"\"\r\n",
        "        own_recommender = ItemItemRecommender(K=5, num_threads=4)\r\n",
        "        own_recommender.fit(csr_matrix(user_item_matrix).T.tocsr())\r\n",
        "\r\n",
        "        return own_recommender\r\n",
        "\r\n",
        "    def get_als_recommendations(self, user, N):\r\n",
        "        res = [self.id_to_itemid[rec[0]] for rec in\r\n",
        "               self.model_als.recommend(userid=self.userid_to_id[user],\r\n",
        "                               user_items=csr_matrix(self.user_item_matrix).tocsr(),  # на вход user-item matrix\r\n",
        "                               N=N,\r\n",
        "                               filter_already_liked_items=False,\r\n",
        "                               filter_items=[self.itemid_to_id[999999]],  # !!! 999999\r\n",
        "                               recalculate_user=True)]\r\n",
        "        return res\r\n",
        "\r\n",
        "\r\n",
        "    def get_similar_items_recommendation(self, user, N):\r\n",
        "        \"\"\"Рекомендуем товары, похожие на топ-N купленных юзером товаров\"\"\"\r\n",
        "        res = [self.id_to_itemid[rec[0]] for rec in\r\n",
        "               self.own_recommender.recommend(userid=self.userid_to_id[user],\r\n",
        "                               user_items=csr_matrix(self.user_item_matrix).tocsr(),  # на вход user-item matrix\r\n",
        "                               N=N,\r\n",
        "                               filter_already_liked_items=False,\r\n",
        "                               filter_items=[self.itemid_to_id[999999]],  # !!!\r\n",
        "                               recalculate_user=True)]\r\n",
        "        assert len(res) == N, 'Количество рекомендаций != {}'.format(N)\r\n",
        "        return res\r\n",
        "\r\n",
        "    def get_own_recommendations(self, user, N):\r\n",
        "        \"\"\"Рекомендуем товары, похожие на топ-N купленных юзером товаров\"\"\"\r\n",
        "        res = [self.id_to_itemid[rec[0]] for rec in\r\n",
        "               self.own_recommender.recommend(userid=self.userid_to_id[user],\r\n",
        "                               user_items=csr_matrix(self.user_item_matrix).tocsr(),  # на вход user-item matrix\r\n",
        "                               N=N,\r\n",
        "                               filter_already_liked_items=False,\r\n",
        "                               filter_items=[self.itemid_to_id[999999]],  # !!!\r\n",
        "                               recalculate_user=True)]\r\n",
        "\r\n",
        "        if len(res) != N:\r\n",
        "            res.extend(['1036501' for _ in range(N - len(res))])\r\n",
        "\r\n",
        "        assert len(res) == N, 'Количество рекомендаций != {}'.format(N)\r\n",
        "\r\n",
        "        return res\r\n",
        "\r\n",
        "\r\n",
        "    def get_similar_users_recommendation(self, user, N):\r\n",
        "        \"\"\"Рекомендуем топ-N товаров, среди купленных 5 похожими юзерами\"\"\"\r\n",
        "        res = [self.id_to_itemid[rec[0]] for rec in\r\n",
        "               self.similar_users_recommender.recommend(userid=self.userid_to_id[user],\r\n",
        "                               user_items=csr_matrix(self.user_item_matrix).tocsr(),  # на вход user-item matrix\r\n",
        "                               N=N,\r\n",
        "                               filter_already_liked_items=False,\r\n",
        "                               filter_items=[self.itemid_to_id[999999]],  # !!!\r\n",
        "                               recalculate_user=True)]\r\n",
        "        assert len(res) == N, 'Количество рекомендаций != {}'.format(N)\r\n",
        "        return res"
      ],
      "execution_count": 9,
      "outputs": []
    },
    {
      "cell_type": "code",
      "metadata": {
        "colab": {
          "base_uri": "https://localhost:8080/"
        },
        "id": "fayAFWDa-KB1",
        "outputId": "1a3f9153-c96e-4eb6-e84f-3f3e1ccceeff"
      },
      "source": [
        "n_items_before = data_train['item_id'].nunique()\r\n",
        "\r\n",
        "data_train = prefilter_items(data_train, take_n_popular=5000)\r\n",
        "\r\n",
        "n_items_after = data_train['item_id'].nunique()\r\n",
        "print('Decreased # items from {} to {}'.format(n_items_before, n_items_after))"
      ],
      "execution_count": 10,
      "outputs": [
        {
          "output_type": "stream",
          "text": [
            "Decreased # items from 90386 to 5000\n"
          ],
          "name": "stdout"
        }
      ]
    },
    {
      "cell_type": "code",
      "metadata": {
        "colab": {
          "base_uri": "https://localhost:8080/",
          "height": 222
        },
        "id": "etU8dx5ih1-S",
        "outputId": "bc6c5ad2-3b34-49be-8b8d-bc9125fffb7a"
      },
      "source": [
        "user_item_matrix = pd.pivot_table(data_train, \r\n",
        "                                  index='user_id', columns='item_id', \r\n",
        "                                  values='quantity', # Можно пробовать другие варианты\r\n",
        "                                  aggfunc='count', \r\n",
        "                                  fill_value=0\r\n",
        "                                 )\r\n",
        "\r\n",
        "user_item_matrix = user_item_matrix.astype(float) # необходимый тип матрицы для implicit\r\n",
        "\r\n",
        "user_item_matrix.head(3)"
      ],
      "execution_count": 11,
      "outputs": [
        {
          "output_type": "execute_result",
          "data": {
            "text/html": [
              "<div>\n",
              "<style scoped>\n",
              "    .dataframe tbody tr th:only-of-type {\n",
              "        vertical-align: middle;\n",
              "    }\n",
              "\n",
              "    .dataframe tbody tr th {\n",
              "        vertical-align: top;\n",
              "    }\n",
              "\n",
              "    .dataframe thead th {\n",
              "        text-align: right;\n",
              "    }\n",
              "</style>\n",
              "<table border=\"1\" class=\"dataframe\">\n",
              "  <thead>\n",
              "    <tr style=\"text-align: right;\">\n",
              "      <th>item_id</th>\n",
              "      <th>397896</th>\n",
              "      <th>818980</th>\n",
              "      <th>818981</th>\n",
              "      <th>819063</th>\n",
              "      <th>819255</th>\n",
              "      <th>819304</th>\n",
              "      <th>819308</th>\n",
              "      <th>819330</th>\n",
              "      <th>819518</th>\n",
              "      <th>819594</th>\n",
              "      <th>819765</th>\n",
              "      <th>819840</th>\n",
              "      <th>819845</th>\n",
              "      <th>819927</th>\n",
              "      <th>819978</th>\n",
              "      <th>820122</th>\n",
              "      <th>820165</th>\n",
              "      <th>820291</th>\n",
              "      <th>820301</th>\n",
              "      <th>820321</th>\n",
              "      <th>820347</th>\n",
              "      <th>820361</th>\n",
              "      <th>820486</th>\n",
              "      <th>820518</th>\n",
              "      <th>820560</th>\n",
              "      <th>820701</th>\n",
              "      <th>820895</th>\n",
              "      <th>821083</th>\n",
              "      <th>821200</th>\n",
              "      <th>821209</th>\n",
              "      <th>821219</th>\n",
              "      <th>821344</th>\n",
              "      <th>821464</th>\n",
              "      <th>821556</th>\n",
              "      <th>821562</th>\n",
              "      <th>821695</th>\n",
              "      <th>821730</th>\n",
              "      <th>821787</th>\n",
              "      <th>821867</th>\n",
              "      <th>821970</th>\n",
              "      <th>...</th>\n",
              "      <th>13776705</th>\n",
              "      <th>13777104</th>\n",
              "      <th>13841744</th>\n",
              "      <th>13842088</th>\n",
              "      <th>13842090</th>\n",
              "      <th>13842214</th>\n",
              "      <th>13842224</th>\n",
              "      <th>13876901</th>\n",
              "      <th>13877192</th>\n",
              "      <th>13945141</th>\n",
              "      <th>13945244</th>\n",
              "      <th>14025185</th>\n",
              "      <th>14025461</th>\n",
              "      <th>14077333</th>\n",
              "      <th>14106445</th>\n",
              "      <th>15452812</th>\n",
              "      <th>15506577</th>\n",
              "      <th>15511891</th>\n",
              "      <th>15596279</th>\n",
              "      <th>15596488</th>\n",
              "      <th>15596515</th>\n",
              "      <th>15629778</th>\n",
              "      <th>15630096</th>\n",
              "      <th>15717057</th>\n",
              "      <th>15741861</th>\n",
              "      <th>15831255</th>\n",
              "      <th>15926712</th>\n",
              "      <th>15926725</th>\n",
              "      <th>15926775</th>\n",
              "      <th>15926844</th>\n",
              "      <th>15926863</th>\n",
              "      <th>15926885</th>\n",
              "      <th>15926886</th>\n",
              "      <th>15926887</th>\n",
              "      <th>15926927</th>\n",
              "      <th>15927403</th>\n",
              "      <th>15972074</th>\n",
              "      <th>15972298</th>\n",
              "      <th>16100266</th>\n",
              "      <th>16809471</th>\n",
              "    </tr>\n",
              "    <tr>\n",
              "      <th>user_id</th>\n",
              "      <th></th>\n",
              "      <th></th>\n",
              "      <th></th>\n",
              "      <th></th>\n",
              "      <th></th>\n",
              "      <th></th>\n",
              "      <th></th>\n",
              "      <th></th>\n",
              "      <th></th>\n",
              "      <th></th>\n",
              "      <th></th>\n",
              "      <th></th>\n",
              "      <th></th>\n",
              "      <th></th>\n",
              "      <th></th>\n",
              "      <th></th>\n",
              "      <th></th>\n",
              "      <th></th>\n",
              "      <th></th>\n",
              "      <th></th>\n",
              "      <th></th>\n",
              "      <th></th>\n",
              "      <th></th>\n",
              "      <th></th>\n",
              "      <th></th>\n",
              "      <th></th>\n",
              "      <th></th>\n",
              "      <th></th>\n",
              "      <th></th>\n",
              "      <th></th>\n",
              "      <th></th>\n",
              "      <th></th>\n",
              "      <th></th>\n",
              "      <th></th>\n",
              "      <th></th>\n",
              "      <th></th>\n",
              "      <th></th>\n",
              "      <th></th>\n",
              "      <th></th>\n",
              "      <th></th>\n",
              "      <th></th>\n",
              "      <th></th>\n",
              "      <th></th>\n",
              "      <th></th>\n",
              "      <th></th>\n",
              "      <th></th>\n",
              "      <th></th>\n",
              "      <th></th>\n",
              "      <th></th>\n",
              "      <th></th>\n",
              "      <th></th>\n",
              "      <th></th>\n",
              "      <th></th>\n",
              "      <th></th>\n",
              "      <th></th>\n",
              "      <th></th>\n",
              "      <th></th>\n",
              "      <th></th>\n",
              "      <th></th>\n",
              "      <th></th>\n",
              "      <th></th>\n",
              "      <th></th>\n",
              "      <th></th>\n",
              "      <th></th>\n",
              "      <th></th>\n",
              "      <th></th>\n",
              "      <th></th>\n",
              "      <th></th>\n",
              "      <th></th>\n",
              "      <th></th>\n",
              "      <th></th>\n",
              "      <th></th>\n",
              "      <th></th>\n",
              "      <th></th>\n",
              "      <th></th>\n",
              "      <th></th>\n",
              "      <th></th>\n",
              "      <th></th>\n",
              "      <th></th>\n",
              "      <th></th>\n",
              "      <th></th>\n",
              "    </tr>\n",
              "  </thead>\n",
              "  <tbody>\n",
              "    <tr>\n",
              "      <th>1</th>\n",
              "      <td>0.0</td>\n",
              "      <td>0.0</td>\n",
              "      <td>0.0</td>\n",
              "      <td>0.0</td>\n",
              "      <td>0.0</td>\n",
              "      <td>0.0</td>\n",
              "      <td>0.0</td>\n",
              "      <td>0.0</td>\n",
              "      <td>0.0</td>\n",
              "      <td>0.0</td>\n",
              "      <td>0.0</td>\n",
              "      <td>0.0</td>\n",
              "      <td>0.0</td>\n",
              "      <td>0.0</td>\n",
              "      <td>0.0</td>\n",
              "      <td>0.0</td>\n",
              "      <td>2.0</td>\n",
              "      <td>0.0</td>\n",
              "      <td>0.0</td>\n",
              "      <td>0.0</td>\n",
              "      <td>0.0</td>\n",
              "      <td>0.0</td>\n",
              "      <td>0.0</td>\n",
              "      <td>0.0</td>\n",
              "      <td>0.0</td>\n",
              "      <td>0.0</td>\n",
              "      <td>0.0</td>\n",
              "      <td>0.0</td>\n",
              "      <td>0.0</td>\n",
              "      <td>0.0</td>\n",
              "      <td>0.0</td>\n",
              "      <td>0.0</td>\n",
              "      <td>0.0</td>\n",
              "      <td>0.0</td>\n",
              "      <td>0.0</td>\n",
              "      <td>0.0</td>\n",
              "      <td>0.0</td>\n",
              "      <td>0.0</td>\n",
              "      <td>1.0</td>\n",
              "      <td>0.0</td>\n",
              "      <td>...</td>\n",
              "      <td>0.0</td>\n",
              "      <td>0.0</td>\n",
              "      <td>0.0</td>\n",
              "      <td>0.0</td>\n",
              "      <td>0.0</td>\n",
              "      <td>0.0</td>\n",
              "      <td>0.0</td>\n",
              "      <td>0.0</td>\n",
              "      <td>0.0</td>\n",
              "      <td>0.0</td>\n",
              "      <td>0.0</td>\n",
              "      <td>0.0</td>\n",
              "      <td>0.0</td>\n",
              "      <td>0.0</td>\n",
              "      <td>0.0</td>\n",
              "      <td>0.0</td>\n",
              "      <td>0.0</td>\n",
              "      <td>0.0</td>\n",
              "      <td>0.0</td>\n",
              "      <td>0.0</td>\n",
              "      <td>0.0</td>\n",
              "      <td>0.0</td>\n",
              "      <td>0.0</td>\n",
              "      <td>0.0</td>\n",
              "      <td>0.0</td>\n",
              "      <td>0.0</td>\n",
              "      <td>1.0</td>\n",
              "      <td>0.0</td>\n",
              "      <td>0.0</td>\n",
              "      <td>1.0</td>\n",
              "      <td>0.0</td>\n",
              "      <td>0.0</td>\n",
              "      <td>0.0</td>\n",
              "      <td>0.0</td>\n",
              "      <td>2.0</td>\n",
              "      <td>0.0</td>\n",
              "      <td>0.0</td>\n",
              "      <td>0.0</td>\n",
              "      <td>0.0</td>\n",
              "      <td>0.0</td>\n",
              "    </tr>\n",
              "    <tr>\n",
              "      <th>2</th>\n",
              "      <td>0.0</td>\n",
              "      <td>0.0</td>\n",
              "      <td>0.0</td>\n",
              "      <td>0.0</td>\n",
              "      <td>0.0</td>\n",
              "      <td>0.0</td>\n",
              "      <td>0.0</td>\n",
              "      <td>0.0</td>\n",
              "      <td>0.0</td>\n",
              "      <td>0.0</td>\n",
              "      <td>0.0</td>\n",
              "      <td>0.0</td>\n",
              "      <td>0.0</td>\n",
              "      <td>0.0</td>\n",
              "      <td>0.0</td>\n",
              "      <td>0.0</td>\n",
              "      <td>1.0</td>\n",
              "      <td>1.0</td>\n",
              "      <td>1.0</td>\n",
              "      <td>0.0</td>\n",
              "      <td>0.0</td>\n",
              "      <td>0.0</td>\n",
              "      <td>0.0</td>\n",
              "      <td>0.0</td>\n",
              "      <td>0.0</td>\n",
              "      <td>0.0</td>\n",
              "      <td>0.0</td>\n",
              "      <td>1.0</td>\n",
              "      <td>0.0</td>\n",
              "      <td>0.0</td>\n",
              "      <td>0.0</td>\n",
              "      <td>0.0</td>\n",
              "      <td>0.0</td>\n",
              "      <td>0.0</td>\n",
              "      <td>0.0</td>\n",
              "      <td>0.0</td>\n",
              "      <td>0.0</td>\n",
              "      <td>0.0</td>\n",
              "      <td>0.0</td>\n",
              "      <td>0.0</td>\n",
              "      <td>...</td>\n",
              "      <td>0.0</td>\n",
              "      <td>0.0</td>\n",
              "      <td>0.0</td>\n",
              "      <td>0.0</td>\n",
              "      <td>0.0</td>\n",
              "      <td>0.0</td>\n",
              "      <td>0.0</td>\n",
              "      <td>0.0</td>\n",
              "      <td>0.0</td>\n",
              "      <td>0.0</td>\n",
              "      <td>0.0</td>\n",
              "      <td>0.0</td>\n",
              "      <td>0.0</td>\n",
              "      <td>0.0</td>\n",
              "      <td>0.0</td>\n",
              "      <td>0.0</td>\n",
              "      <td>0.0</td>\n",
              "      <td>0.0</td>\n",
              "      <td>0.0</td>\n",
              "      <td>0.0</td>\n",
              "      <td>0.0</td>\n",
              "      <td>0.0</td>\n",
              "      <td>0.0</td>\n",
              "      <td>0.0</td>\n",
              "      <td>0.0</td>\n",
              "      <td>0.0</td>\n",
              "      <td>0.0</td>\n",
              "      <td>0.0</td>\n",
              "      <td>0.0</td>\n",
              "      <td>0.0</td>\n",
              "      <td>0.0</td>\n",
              "      <td>0.0</td>\n",
              "      <td>0.0</td>\n",
              "      <td>0.0</td>\n",
              "      <td>1.0</td>\n",
              "      <td>0.0</td>\n",
              "      <td>0.0</td>\n",
              "      <td>0.0</td>\n",
              "      <td>0.0</td>\n",
              "      <td>0.0</td>\n",
              "    </tr>\n",
              "    <tr>\n",
              "      <th>3</th>\n",
              "      <td>0.0</td>\n",
              "      <td>0.0</td>\n",
              "      <td>0.0</td>\n",
              "      <td>0.0</td>\n",
              "      <td>1.0</td>\n",
              "      <td>0.0</td>\n",
              "      <td>0.0</td>\n",
              "      <td>0.0</td>\n",
              "      <td>0.0</td>\n",
              "      <td>0.0</td>\n",
              "      <td>0.0</td>\n",
              "      <td>0.0</td>\n",
              "      <td>0.0</td>\n",
              "      <td>0.0</td>\n",
              "      <td>0.0</td>\n",
              "      <td>0.0</td>\n",
              "      <td>0.0</td>\n",
              "      <td>0.0</td>\n",
              "      <td>0.0</td>\n",
              "      <td>0.0</td>\n",
              "      <td>0.0</td>\n",
              "      <td>0.0</td>\n",
              "      <td>0.0</td>\n",
              "      <td>0.0</td>\n",
              "      <td>0.0</td>\n",
              "      <td>0.0</td>\n",
              "      <td>0.0</td>\n",
              "      <td>0.0</td>\n",
              "      <td>0.0</td>\n",
              "      <td>0.0</td>\n",
              "      <td>0.0</td>\n",
              "      <td>0.0</td>\n",
              "      <td>0.0</td>\n",
              "      <td>0.0</td>\n",
              "      <td>0.0</td>\n",
              "      <td>0.0</td>\n",
              "      <td>0.0</td>\n",
              "      <td>0.0</td>\n",
              "      <td>0.0</td>\n",
              "      <td>0.0</td>\n",
              "      <td>...</td>\n",
              "      <td>0.0</td>\n",
              "      <td>0.0</td>\n",
              "      <td>0.0</td>\n",
              "      <td>0.0</td>\n",
              "      <td>0.0</td>\n",
              "      <td>6.0</td>\n",
              "      <td>0.0</td>\n",
              "      <td>0.0</td>\n",
              "      <td>0.0</td>\n",
              "      <td>0.0</td>\n",
              "      <td>1.0</td>\n",
              "      <td>0.0</td>\n",
              "      <td>0.0</td>\n",
              "      <td>0.0</td>\n",
              "      <td>0.0</td>\n",
              "      <td>1.0</td>\n",
              "      <td>0.0</td>\n",
              "      <td>0.0</td>\n",
              "      <td>2.0</td>\n",
              "      <td>0.0</td>\n",
              "      <td>0.0</td>\n",
              "      <td>0.0</td>\n",
              "      <td>0.0</td>\n",
              "      <td>0.0</td>\n",
              "      <td>1.0</td>\n",
              "      <td>0.0</td>\n",
              "      <td>0.0</td>\n",
              "      <td>0.0</td>\n",
              "      <td>0.0</td>\n",
              "      <td>0.0</td>\n",
              "      <td>0.0</td>\n",
              "      <td>0.0</td>\n",
              "      <td>0.0</td>\n",
              "      <td>0.0</td>\n",
              "      <td>0.0</td>\n",
              "      <td>0.0</td>\n",
              "      <td>0.0</td>\n",
              "      <td>0.0</td>\n",
              "      <td>0.0</td>\n",
              "      <td>0.0</td>\n",
              "    </tr>\n",
              "  </tbody>\n",
              "</table>\n",
              "<p>3 rows × 5000 columns</p>\n",
              "</div>"
            ],
            "text/plain": [
              "item_id  397896    818980    818981    ...  15972298  16100266  16809471\n",
              "user_id                                ...                              \n",
              "1             0.0       0.0       0.0  ...       0.0       0.0       0.0\n",
              "2             0.0       0.0       0.0  ...       0.0       0.0       0.0\n",
              "3             0.0       0.0       0.0  ...       0.0       0.0       0.0\n",
              "\n",
              "[3 rows x 5000 columns]"
            ]
          },
          "metadata": {
            "tags": []
          },
          "execution_count": 11
        }
      ]
    },
    {
      "cell_type": "code",
      "metadata": {
        "id": "ghmy0gjah5cC"
      },
      "source": [
        "userids = user_item_matrix.index.values\r\n",
        "itemids = user_item_matrix.columns.values\r\n",
        "\r\n",
        "matrix_userids = np.arange(len(userids))\r\n",
        "matrix_itemids = np.arange(len(itemids))\r\n",
        "\r\n",
        "id_to_itemid = dict(zip(matrix_itemids, itemids))\r\n",
        "id_to_userid = dict(zip(matrix_userids, userids))\r\n",
        "\r\n",
        "itemid_to_id = dict(zip(itemids, matrix_itemids))\r\n",
        "userid_to_id = dict(zip(userids, matrix_userids))"
      ],
      "execution_count": 12,
      "outputs": []
    },
    {
      "cell_type": "code",
      "metadata": {
        "id": "OOhwpSmvh8_j"
      },
      "source": [
        "user_item_matrix = bm25_weight(user_item_matrix.T).T  # Применяется к item-user матрице !"
      ],
      "execution_count": 13,
      "outputs": []
    },
    {
      "cell_type": "code",
      "metadata": {
        "colab": {
          "base_uri": "https://localhost:8080/"
        },
        "id": "t-4PEJibiIHQ",
        "outputId": "a42a48da-c258-4c41-e91b-3c914f54824b"
      },
      "source": [
        "model = AlternatingLeastSquares(factors=20, \r\n",
        "                                regularization=0.001,\r\n",
        "                                iterations=15, \r\n",
        "                                calculate_training_loss=True, \r\n",
        "                                num_threads=4)\r\n"
      ],
      "execution_count": 17,
      "outputs": [
        {
          "output_type": "stream",
          "text": [
            "WARNING:implicit:GPU training requires factor size to be a multiple of 32. Increasing factors from 20 to 32.\n"
          ],
          "name": "stderr"
        }
      ]
    },
    {
      "cell_type": "code",
      "metadata": {
        "id": "zxNbVzg5iUgt"
      },
      "source": [
        "def get_similar_items_recommendation(data, id_to_itemid, itemid_to_id, user, model, N=5):\r\n",
        "    \"\"\"Рекомендуем товары, похожие на топ-N купленных юзером товаров\"\"\"\r\n",
        "    \r\n",
        "    top = data[data['user_id'] == user].groupby('item_id')['quantity'].count().reset_index().sort_values(\r\n",
        "        'quantity', ascending=False)[:N]\r\n",
        "    return top['item_id'].apply(lambda x: id_to_itemid[model.similar_items(itemid_to_id[x], N=2)[1][0]]).tolist()\r\n",
        "\r\n",
        "def get_similar_users_recommendation(data, userid_to_id, user, model, N=5):\r\n",
        "    \"\"\"Рекомендуем топ-N товаров, среди купленных похожими юзерами\"\"\"\r\n",
        "    \r\n",
        "    sim_users, _ = zip(*model.similar_users(userid_to_id[user])[1:])\r\n",
        "    return data[data['user_id'].isin(sim_users)].groupby('item_id')['quantity'].count().reset_index().sort_values(\r\n",
        "        'quantity', ascending=False)[:N].item_id.tolist()"
      ],
      "execution_count": 19,
      "outputs": []
    },
    {
      "cell_type": "code",
      "metadata": {
        "id": "YqGsAAiHia0N"
      },
      "source": [
        "class MainRecommender:\r\n",
        "    \"\"\"Рекоммендации, которые можно получить из ALS\r\n",
        "    \r\n",
        "    Input\r\n",
        "    -----\r\n",
        "    user_item_matrix: pd.DataFrame\r\n",
        "        Матрица взаимодействий user-item\r\n",
        "    \"\"\"\r\n",
        "    \r\n",
        "    def __init__(self, data, weighting=True):\r\n",
        "        \r\n",
        "        # your_code. Это не обязательная часть. Но если вам удобно что-либо посчитать тут - можно это сделать\r\n",
        "        self.data = data\r\n",
        "        self.user_item_matrix = self.prepare_matrix(self.data)  # pd.DataFrame\r\n",
        "        self.id_to_itemid, self.id_to_userid, self.itemid_to_id, self.userid_to_id = self.prepare_dicts(self.user_item_matrix)\r\n",
        "        \r\n",
        "        if weighting:\r\n",
        "            self.user_item_matrix = bm25_weight(self.user_item_matrix.T).T \r\n",
        "        \r\n",
        "        self.model = self.fit(self.user_item_matrix)\r\n",
        "        self.own_recommender = self.fit_own_recommender(self.user_item_matrix)\r\n",
        "     \r\n",
        "    @staticmethod\r\n",
        "    def prepare_matrix(data):\r\n",
        "        \r\n",
        "        user_item_matrix = pd.pivot_table(data, \r\n",
        "                                          index='user_id', columns='item_id', \r\n",
        "                                          values='quantity', # Можно пробовать другие варианты\r\n",
        "                                          aggfunc='count', \r\n",
        "                                          fill_value=0\r\n",
        "                                         )\r\n",
        "\r\n",
        "        user_item_matrix = user_item_matrix.astype(float) # необходимый тип матрицы для implicit\r\n",
        "        return user_item_matrix\r\n",
        "\r\n",
        "    @staticmethod\r\n",
        "    def prepare_dicts(user_item_matrix):\r\n",
        "        \"\"\"Подготавливает вспомогательные словари\"\"\"\r\n",
        "        \r\n",
        "        userids = user_item_matrix.index.values\r\n",
        "        itemids = user_item_matrix.columns.values\r\n",
        "\r\n",
        "        matrix_userids = np.arange(len(userids))\r\n",
        "        matrix_itemids = np.arange(len(itemids))\r\n",
        "\r\n",
        "        id_to_itemid = dict(zip(matrix_itemids, itemids))\r\n",
        "        id_to_userid = dict(zip(matrix_userids, userids))\r\n",
        "\r\n",
        "        itemid_to_id = dict(zip(itemids, matrix_itemids))\r\n",
        "        userid_to_id = dict(zip(userids, matrix_userids))\r\n",
        "        \r\n",
        "        return id_to_itemid, id_to_userid, itemid_to_id, userid_to_id\r\n",
        "    \r\n",
        "    @staticmethod\r\n",
        "    def fit_own_recommender(user_item_matrix):\r\n",
        "        \"\"\"Обучает модель, которая рекомендует товары, среди товаров, купленных юзером\"\"\"\r\n",
        "    \r\n",
        "        own_recommender = ItemItemRecommender(K=1, num_threads=4)\r\n",
        "        own_recommender.fit(csr_matrix(user_item_matrix).T.tocsr())\r\n",
        "        \r\n",
        "        return own_recommender\r\n",
        "    \r\n",
        "    @staticmethod\r\n",
        "    def fit(user_item_matrix, n_factors=20, regularization=0.001, iterations=15, num_threads=4):\r\n",
        "        \"\"\"Обучает ALS\"\"\"\r\n",
        "        \r\n",
        "        model = AlternatingLeastSquares(factors=n_factors, \r\n",
        "                                        regularization=regularization,\r\n",
        "                                        iterations=iterations,  \r\n",
        "                                        num_threads=num_threads)\r\n",
        "        model.fit(csr_matrix(user_item_matrix).T.tocsr())\r\n",
        "        \r\n",
        "        return model\r\n",
        "\r\n",
        "    def get_similar_items_recommendation(self, user, N=5):\r\n",
        "        \"\"\"Рекомендуем товары, похожие на топ-N купленных юзером товаров\"\"\"\r\n",
        "\r\n",
        "        top = self.data[self.data['user_id'] == user].groupby('item_id')['quantity'].count().reset_index().sort_values(\r\n",
        "            'quantity', ascending=False)[:N]\r\n",
        "        \r\n",
        "        res = top['item_id'].apply(\r\n",
        "            lambda x: self.id_to_itemid[self.model.similar_items(self.itemid_to_id[x], N=2)[1][0]]\r\n",
        "        ).tolist()\r\n",
        "    \r\n",
        "        assert len(res) == N, 'Количество рекомендаций != {}'.format(N)\r\n",
        "        return res\r\n",
        "    \r\n",
        "    def get_similar_users_recommendation(self, user, N=5):\r\n",
        "        \"\"\"Рекомендуем топ-N товаров, среди купленных похожими юзерами\"\"\"\r\n",
        "    \r\n",
        "        sim_users, _ = zip(*self.model.similar_users(self.userid_to_id[user])[1:])\r\n",
        "        res = self.data[self.data['user_id'].isin(sim_users)].groupby('item_id')['quantity']. \\\r\n",
        "            count().reset_index().sort_values('quantity', ascending=False)[:N].item_id.tolist()\r\n",
        "        \r\n",
        "        assert len(res) == N, 'Количество рекомендаций != {}'.format(N)\r\n",
        "        return res"
      ],
      "execution_count": 20,
      "outputs": []
    },
    {
      "cell_type": "markdown",
      "metadata": {
        "id": "tUFdov-EidZN"
      },
      "source": [
        "# Проверка"
      ]
    },
    {
      "cell_type": "code",
      "metadata": {
        "id": "2iaSlUW5ihEX"
      },
      "source": [
        "from src.metrics1 import precision_at_k, recall_at_k\r\n",
        "from src.utils import prefilter_items\r\n",
        "from src.recommenders import MainRecommender"
      ],
      "execution_count": 25,
      "outputs": []
    },
    {
      "cell_type": "code",
      "metadata": {
        "colab": {
          "base_uri": "https://localhost:8080/"
        },
        "id": "jfJ7fuHZimBz",
        "outputId": "554b6c0e-89da-4a3b-a81b-d0809c32ebc6"
      },
      "source": [
        "n_items_before = data_train['item_id'].nunique()\r\n",
        "\r\n",
        "data_train1 = prefilter_items(data_train, take_n_popular=1000)\r\n",
        "\r\n",
        "n_items_after = data_train1['item_id'].nunique()\r\n",
        "print('Decreased # items from {} to {}'.format(n_items_before, n_items_after))"
      ],
      "execution_count": 26,
      "outputs": [
        {
          "output_type": "stream",
          "text": [
            "Decreased # items from 5000 to 1001\n"
          ],
          "name": "stdout"
        }
      ]
    },
    {
      "cell_type": "code",
      "metadata": {
        "colab": {
          "base_uri": "https://localhost:8080/"
        },
        "id": "mTri_7EwioLp",
        "outputId": "979d6a12-afb9-4e5d-ec34-87ec45e78fa2"
      },
      "source": [
        "get_similar_items_recommendation(data_train, id_to_itemid, itemid_to_id, 1, model, N=5)"
      ],
      "execution_count": 27,
      "outputs": [
        {
          "output_type": "execute_result",
          "data": {
            "text/plain": [
              "[1059922, 861279, 1003600, 822226, 844740]"
            ]
          },
          "metadata": {
            "tags": []
          },
          "execution_count": 27
        }
      ]
    },
    {
      "cell_type": "code",
      "metadata": {
        "colab": {
          "base_uri": "https://localhost:8080/"
        },
        "id": "YvZ9tgJOirA4",
        "outputId": "dfece997-083c-4d08-eb82-89d20aa5f0f3"
      },
      "source": [
        "get_similar_users_recommendation(data_train, userid_to_id, 1, model, N=5)"
      ],
      "execution_count": 28,
      "outputs": [
        {
          "output_type": "execute_result",
          "data": {
            "text/plain": [
              "[8020166, 1106523, 1082185, 951590, 1133018]"
            ]
          },
          "metadata": {
            "tags": []
          },
          "execution_count": 28
        }
      ]
    }
  ]
}